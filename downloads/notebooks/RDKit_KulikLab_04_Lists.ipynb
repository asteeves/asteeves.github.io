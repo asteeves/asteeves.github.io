{
 "metadata": {
  "name": "",
  "signature": "sha256:e67057257e58b8afbbb44389b43302f8adf8aac28ae3f51b285ca2f5f6bce39e"
 },
 "nbformat": 3,
 "nbformat_minor": 0,
 "worksheets": [
  {
   "cells": [
    {
     "cell_type": "heading",
     "level": 1,
     "metadata": {},
     "source": [
      "Working with sets of molecules in RDKit"
     ]
    },
    {
     "cell_type": "code",
     "collapsed": false,
     "input": [
      "from rdkit import Chem\n",
      "from rdkit.Chem import AllChem\n",
      "from rdkit.Chem.Draw import IPythonConsole\n",
      "from rdkit.Chem.Draw.MolDrawing import MolDrawing, DrawingOptions"
     ],
     "language": "python",
     "metadata": {},
     "outputs": [],
     "prompt_number": 1
    },
    {
     "cell_type": "code",
     "collapsed": false,
     "input": [
      "DrawingOptions.bondLineWidth=1.8"
     ],
     "language": "python",
     "metadata": {},
     "outputs": [],
     "prompt_number": 2
    },
    {
     "cell_type": "markdown",
     "metadata": {},
     "source": [
      "In cheminformatics, we are rarely interested in performing calculations on a single molecule at a time. Rather, libraries of molecules are the subject of our computations. Depending on the size of these libraries and the limiting steps of our computations, we may want to represent the libraries using different data structures.\n",
      "\n",
      "For small-ish libraries, it is convenient to create a group of molecules as a python list:"
     ]
    },
    {
     "cell_type": "code",
     "collapsed": false,
     "input": [
      "smiles_list = [ 'C', 'CC', 'CCC', 'CCCC', 'CCCCC', 'C1CCCCC1' ]"
     ],
     "language": "python",
     "metadata": {},
     "outputs": [],
     "prompt_number": 3
    },
    {
     "cell_type": "markdown",
     "metadata": {},
     "source": [
      "This is currently just a list of strings:"
     ]
    },
    {
     "cell_type": "code",
     "collapsed": false,
     "input": [
      "type(smiles_list[0])"
     ],
     "language": "python",
     "metadata": {},
     "outputs": [
      {
       "metadata": {},
       "output_type": "pyout",
       "prompt_number": 4,
       "text": [
        "str"
       ]
      }
     ],
     "prompt_number": 4
    },
    {
     "cell_type": "markdown",
     "metadata": {},
     "source": [
      "We would like to turn it into a list of molecule objects. We can do that by iterating through our list of SMILES strings and turning each into a new molecule using the `Chem.MolFromSmiles` method. We could do that using a for loop, but a more convenient consruct to use in python is called a list comprehension:"
     ]
    },
    {
     "cell_type": "code",
     "collapsed": false,
     "input": [
      "mol_list = [Chem.MolFromSmiles(smiles) for smiles in smiles_list]"
     ],
     "language": "python",
     "metadata": {},
     "outputs": [],
     "prompt_number": 5
    },
    {
     "cell_type": "code",
     "collapsed": false,
     "input": [
      "type(mol_list[0])"
     ],
     "language": "python",
     "metadata": {},
     "outputs": [
      {
       "metadata": {},
       "output_type": "pyout",
       "prompt_number": 6,
       "text": [
        "rdkit.Chem.rdchem.Mol"
       ]
      }
     ],
     "prompt_number": 6
    },
    {
     "cell_type": "markdown",
     "metadata": {},
     "source": [
      "We can query a single member of the list:"
     ]
    },
    {
     "cell_type": "code",
     "collapsed": false,
     "input": [
      "mol_list[2].GetNumAtoms()"
     ],
     "language": "python",
     "metadata": {},
     "outputs": [
      {
       "metadata": {},
       "output_type": "pyout",
       "prompt_number": 7,
       "text": [
        "3"
       ]
      }
     ],
     "prompt_number": 7
    },
    {
     "cell_type": "markdown",
     "metadata": {},
     "source": [
      "Or we can operate on all elements of the list. Here I am setting the `_Name` property of each of the molecules, using a python construct called a list comprehension:"
     ]
    },
    {
     "cell_type": "code",
     "collapsed": false,
     "input": [
      "[mol.SetProp('_Name', 'C'+str(mol.GetNumAtoms())) for mol in mol_list];"
     ],
     "language": "python",
     "metadata": {},
     "outputs": [],
     "prompt_number": 8
    },
    {
     "cell_type": "code",
     "collapsed": false,
     "input": [
      "print Chem.MolToMolBlock(mol_list[2])"
     ],
     "language": "python",
     "metadata": {},
     "outputs": [
      {
       "output_type": "stream",
       "stream": "stdout",
       "text": [
        "C3\n",
        "     RDKit          \n",
        "\n",
        "  3  2  0  0  0  0  0  0  0  0999 V2000\n",
        "    0.0000    0.0000    0.0000 C   0  0  0  0  0  0  0  0  0  0  0  0\n",
        "    0.0000    0.0000    0.0000 C   0  0  0  0  0  0  0  0  0  0  0  0\n",
        "    0.0000    0.0000    0.0000 C   0  0  0  0  0  0  0  0  0  0  0  0\n",
        "  1  2  1  0\n",
        "  2  3  1  0\n",
        "M  END\n",
        "\n"
       ]
      }
     ],
     "prompt_number": 9
    },
    {
     "cell_type": "markdown",
     "metadata": {},
     "source": [
      "Now we'd like to take a look at the 2D representations of our complete set of molecules. We use the keyword argument `legends` to send a list of molecule names to be printed alongside the 2D representations. The list comprehension construct that we introduced above is great for performing operations like this."
     ]
    },
    {
     "cell_type": "code",
     "collapsed": false,
     "input": [
      "Chem.Draw.MolsToGridImage(mol_list,legends=[mol.GetProp('_Name') for mol in mol_list])"
     ],
     "language": "python",
     "metadata": {},
     "outputs": [
      {
       "metadata": {},
       "output_type": "pyout",
       "png": "[encoded data removed]",
       "prompt_number": 10,
       "text": [
        "<Image.Image image mode=RGBA size=600x400 at 0x106020638>"
       ]
      }
     ],
     "prompt_number": 10
    },
    {
     "cell_type": "markdown",
     "metadata": {},
     "source": [
      "We typically won't be manually writing SMILES strings to create sets of molecules. For sets of any reasonable size, we will usually want to read these in from a file, either in the form of SMILES strings or an SDF file with multiple molecule records."
     ]
    },
    {
     "cell_type": "code",
     "collapsed": false,
     "input": [
      "%%file small_smiles.smi\n",
      "\n",
      "C methane\n",
      "CC ethane\n",
      "CCC propane\n",
      "CCCC butane\n",
      "CCCCC pentane\n",
      "C1CCCCC1 cyclohexane"
     ],
     "language": "python",
     "metadata": {},
     "outputs": [
      {
       "output_type": "stream",
       "stream": "stdout",
       "text": [
        "Overwriting small_smiles.smi\n"
       ]
      }
     ],
     "prompt_number": 11
    },
    {
     "cell_type": "code",
     "collapsed": false,
     "input": [
      "new_mols = AllChem.SmilesMolSupplier('small_smiles.smi', titleLine=False)"
     ],
     "language": "python",
     "metadata": {},
     "outputs": [],
     "prompt_number": 12
    },
    {
     "cell_type": "code",
     "collapsed": false,
     "input": [
      "Chem.Draw.MolsToGridImage(new_mols,legends=[mol.GetProp('_Name') for mol in new_mols])"
     ],
     "language": "python",
     "metadata": {},
     "outputs": [
      {
       "metadata": {},
       "output_type": "pyout",
       "png": "[encoded data removed]",
       "prompt_number": 13,
       "text": [
        "<Image.Image image mode=RGBA size=600x400 at 0x1065DDEF0>"
       ]
      }
     ],
     "prompt_number": 13
    }
   ],
   "metadata": {}
  }
 ]
}